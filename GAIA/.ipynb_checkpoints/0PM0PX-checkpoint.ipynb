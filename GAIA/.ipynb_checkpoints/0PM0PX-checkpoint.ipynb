{
 "cells": [
  {
   "cell_type": "code",
   "execution_count": 7,
   "metadata": {},
   "outputs": [],
   "source": [
    "import numpy as np\n",
    "import matplotlib.pyplot as plt\n",
    "import matplotlib.gridspec as gridspec\n",
    "import pandas as pd\n",
    "from scipy.interpolate import UnivariateSpline, interp1d\n",
    "import sys\n",
    "import time\n",
    "import urllib, urllib2"
   ]
  },
  {
   "cell_type": "code",
   "execution_count": 13,
   "metadata": {},
   "outputs": [],
   "source": [
    "def create_SQL_query(RA, DEC, d):\n",
    "    query_str = '''\n",
    "        SELECT\n",
    "            p.objid, p.ra, p.dec, p.devrad_r, p.fracdev_r, p.exprad_r, s.z as redshift, \n",
    "            p.modelmag_u, p.modelmag_g, p.modelmag_r, p.modelmag_i, p.modelmag_z, \n",
    "            p.petrorad_r, petroR50_r, p.clean \n",
    "        FROM PhotoObj AS p\n",
    "          JOIN dbo.fGetNearbyObjEq({}, {}, {}) AS GN ON p.objID = GN.objID\n",
    "          LEFT JOIN SpecObj AS s ON s.bestobjid = p.objid\n",
    "        WHERE petroR50_r < 3.0\n",
    "          AND ((flags_r & 0x10000000) != 0)\n",
    "          AND ((flags_r & 0x8100000c00a4) = 0)\n",
    "          AND (((flags_r & 0x400000000000) = 0) or (psfmagerr_r <= 0.2))\n",
    "    '''.format(RA, DEC, d)\n",
    "    return query_str\n",
    "\n",
    "\n",
    "def SDSS_request(SQL_query):\n",
    "    # sends SQL query to DR7 SQL search, returns as csv\n",
    "    sURL = 'http://cas.sdss.org/dr7/en/tools/search/x_sql.asp'\n",
    "    values = {'cmd': SQL_query, 'format': 'csv'}\n",
    "    data = urllib.urlencode(values)\n",
    "    request = urllib2.Request(sURL, data)\n",
    "    response = urllib2.urlopen(request)\n",
    "    return response.read()\n",
    "\n",
    "\n",
    "def writer(name,RA,DEC,data):\n",
    "    # Function to write data to a file\n",
    "    f = open(name, 'a')             #defines the file to be opened as appendable\n",
    "    #f.write('\\n' + host + '\\n')     #formatting for hosts\n",
    "    f.write(data)                   #writes in data\n",
    "    f.close()                       #tells python to close file\n",
    "    return writer\n",
    "\n",
    "\n",
    "def compiler(RA,DEC,d=.05):\n",
    "    file_name = 'color{:.0f}.csv'.format(time.time())\n",
    "    print 'Creating file:', file_name\n",
    "    the_file = open(file_name, 'w')\n",
    "    the_file.write('''objid,ra,dec,devrad_r,fracdev_r,exprad_r,redshift,modelmag_u,\n",
    "    modelmag_g,modelmag_r,modelmag_i,modelmag_z,petrorad_r,petroR50_r,clean\\n''')\n",
    "    the_file.close()\n",
    "    \n",
    "    query_string = ''\n",
    "    data_string = ''\n",
    "    full_data = ''\n",
    "    for i, val in enumerate(RA):\n",
    "        sys.stdout.write('\\r'+'Retrieving Data: {0:.1f}%'.format((i/np.float(len(RA)))*100.))\n",
    "\n",
    "        query_string = create_SQL_query(RA[i],DEC[i], d)\n",
    "        data_string = SDSS_request(query_string)\n",
    "        \n",
    "        if data_string == 'No objects have been found':\n",
    "            #print 'No objects here.'\n",
    "            continue\n",
    "        else:\n",
    "            split_string = data_string.split('clean\\n')[1]\n",
    "            #print split_string\n",
    "            if split_string in full_data:\n",
    "                continue\n",
    "            else:\n",
    "                full_data += split_string\n",
    "    writer(file_name,RA[i],DEC[i],full_data)\n",
    "    return pd.read_csv('{}'.format(file_name))"
   ]
  },
  {
   "cell_type": "code",
   "execution_count": 8,
   "metadata": {},
   "outputs": [],
   "source": [
    "GAIA_data = pd.read_csv('1526612313517O-result.csv')"
   ]
  },
  {
   "cell_type": "code",
   "execution_count": 14,
   "metadata": {},
   "outputs": [
    {
     "name": "stdout",
     "output_type": "stream",
     "text": [
      "Creating file: color1526613627.csv\n",
      "Retrieving Data: 99.8%"
     ]
    }
   ],
   "source": [
    "SDSS_data = compiler(GAIA_data.ra,GAIA_data.dec)"
   ]
  },
  {
   "cell_type": "code",
   "execution_count": 28,
   "metadata": {},
   "outputs": [
    {
     "data": {
      "image/png": "[encoded data removed]",
      "text/plain": [
       "<matplotlib.figure.Figure at 0xe28d898>"
      ]
     },
     "metadata": {},
     "output_type": "display_data"
    }
   ],
   "source": [
    "SDSS_data.plot.scatter('modelmag_u','modelmag_g')\n",
    "plt.show()"
   ]
  }
 ],
 "metadata": {
  "kernelspec": {
   "display_name": "Python 2",
   "language": "python",
   "name": "python2"
  },
  "language_info": {
   "codemirror_mode": {
    "name": "ipython",
    "version": 2
   },
   "file_extension": ".py",
   "mimetype": "text/x-python",
   "name": "python",
   "nbconvert_exporter": "python",
   "pygments_lexer": "ipython2",
   "version": "2.7.13"
  }
 },
 "nbformat": 4,
 "nbformat_minor": 2
}
