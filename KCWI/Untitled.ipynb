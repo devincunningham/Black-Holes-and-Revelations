{
 "cells": [
  {
   "cell_type": "code",
   "execution_count": 1,
   "metadata": {},
   "outputs": [],
   "source": [
    "import numpy as np"
   ]
  },
  {
   "cell_type": "code",
   "execution_count": 183,
   "metadata": {},
   "outputs": [
    {
     "name": "stdout",
     "output_type": "stream",
     "text": [
      "[[  1   2   3   4   5   6   7   8   9  10]\n",
      " [ 11  12  13  14  15  16  17  18  19  20]\n",
      " [ 21  22  23  24  25  26  27  28  29  30]\n",
      " [ 31  32  33  34  35  36  37  38  39  40]\n",
      " [ 41  42  43  44  45  46  47  48  49  50]\n",
      " [ 51  52  53  54  55  56  57  58  59  60]\n",
      " [ 61  62  63  64  65  66  67  68  69  70]\n",
      " [ 71  72  73  74  75  76  77  78  79  80]\n",
      " [ 81  82  83  84  85  86  87  88  89  90]\n",
      " [ 91  92  93  94  95  96  97  98  99 100]]\n"
     ]
    }
   ],
   "source": [
    "data = np.arange(1,101).reshape(10,10)\n",
    "print data"
   ]
  },
  {
   "cell_type": "code",
   "execution_count": 184,
   "metadata": {},
   "outputs": [
    {
     "name": "stdout",
     "output_type": "stream",
     "text": [
      "[77]\n",
      "[66, 67, 68, 76, 78, 86, 87, 88]\n",
      "[55, 56, 57, 58, 59, 65, 69, 75, 79, 85, 89, 95, 96, 97, 98, 99]\n",
      "[44, 45, 46, 47, 48, 49, 50, 54, 60, 64, 70, 74, 80, 84, 90, 94, 100]\n",
      "[33, 34, 35, 36, 37, 38, 39, 40, 43, 53, 63, 73, 83, 93]\n",
      "[22, 23, 24, 25, 26, 27, 28, 29, 30, 32, 42, 52, 62, 72, 82, 92]\n",
      "[11, 12, 13, 14, 15, 16, 17, 18, 19, 20, 21, 31, 41, 51, 61, 71, 81, 91]\n",
      "[1, 2, 3, 4, 5, 6, 7, 8, 9, 10]\n",
      "[77.0, 77.0, 77.0, 64.647058823529406, 50.0, 41.75, 33.5, 5.5]\n",
      "[[ 5  5  5  5  5  5  5  5  5  5]\n",
      " [33 33 33 33 33 33 33 33 33 33]\n",
      " [33 41 41 41 41 41 41 41 41 41]\n",
      " [33 41 50 50 50 50 50 50 50 50]\n",
      " [33 41 50 64 64 64 64 64 64 64]\n",
      " [33 41 50 64 77 77 77 77 77 64]\n",
      " [33 41 50 64 77 77 77 77 77 64]\n",
      " [33 41 50 64 77 77 77 77 77 64]\n",
      " [33 41 50 64 77 77 77 77 77 64]\n",
      " [33 41 50 64 77 77 77 77 77 64]]\n"
     ]
    }
   ],
   "source": [
    "target_row = 7\n",
    "target_col = 6\n",
    "print annulizer(data, target_row, target_col)"
   ]
  },
  {
   "cell_type": "code",
   "execution_count": 182,
   "metadata": {},
   "outputs": [],
   "source": [
    "def annulizer(data, target_row, target_col):\n",
    "    hive = []\n",
    "    for step in range(max(data.shape[0]-target_row,\n",
    "                          data.shape[1]-target_col,\n",
    "                          data.shape[0]-2,\n",
    "                          data.shape[1]-2)):\n",
    "        ring = []\n",
    "        for i in range(-step,step+1):\n",
    "            if i == -step or i == step:\n",
    "                for j in range(-step,step+1):\n",
    "                    if target_row+i >= 0 and target_col+j >= 0:\n",
    "                        try:\n",
    "                            ring.append(data[target_row+i][target_col+j])\n",
    "                        except IndexError:\n",
    "                            pass\n",
    "            else:\n",
    "                for j in (-step, step):\n",
    "                    if target_row+i >= 0 and target_col+j >= 0:\n",
    "                        try:\n",
    "                            ring.append(data[target_row+i][target_col+j])\n",
    "                        except IndexError:\n",
    "                            pass\n",
    "        hive.append(np.mean(ring))\n",
    "        print ring\n",
    "    print hive\n",
    "    for step in range(max(data.shape[0]-target_row,\n",
    "                          data.shape[1]-target_col,\n",
    "                          data.shape[0]-2,\n",
    "                          data.shape[1]-2)):\n",
    "        for i in range(-step,step+1):\n",
    "            if i == -step or i == step:\n",
    "                for j in range(-step,step+1):\n",
    "                    if target_row+i >= 0 and target_col+j >= 0:\n",
    "                        try:\n",
    "                            data[target_row+i][target_col+j] = hive[step]\n",
    "                        except IndexError:\n",
    "                            pass\n",
    "            else:\n",
    "                for j in (-step, step):\n",
    "                    if target_row+i >= 0 and target_col+j >= 0:\n",
    "                        try:\n",
    "                            data[target_row+i][target_col+j] = hive[step]\n",
    "                        except IndexError:\n",
    "                            pass\n",
    "    return data"
   ]
  }
 ],
 "metadata": {
  "kernelspec": {
   "display_name": "Python 2",
   "language": "python",
   "name": "python2"
  },
  "language_info": {
   "codemirror_mode": {
    "name": "ipython",
    "version": 2
   },
   "file_extension": ".py",
   "mimetype": "text/x-python",
   "name": "python",
   "nbconvert_exporter": "python",
   "pygments_lexer": "ipython2",
   "version": "2.7.13"
  }
 },
 "nbformat": 4,
 "nbformat_minor": 2
}
