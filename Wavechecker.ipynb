{
 "cells": [
  {
   "cell_type": "code",
   "execution_count": 1,
   "metadata": {
    "collapsed": true
   },
   "outputs": [],
   "source": [
    "from astropy import units as u\n",
    "import wavechecker as wav"
   ]
  },
  {
   "cell_type": "markdown",
   "metadata": {},
   "source": [
    "# Visualizing data\n",
    "\n",
    "To collect and display images, we use the waveplotter function. This tool lets you quickly check visually in python whether an astronomical object has observation data in the Very Large Array (VLA), Sloan Digital Sky Survey (SDSS), and the Chandra Source Catalog (CSC)."
   ]
  },
  {
   "cell_type": "code",
   "execution_count": null,
   "metadata": {
    "scrolled": false
   },
   "outputs": [
    {
     "name": "stdout",
     "output_type": "stream",
     "text": [
      "Downloading VLA Image...\n",
      "Success!\n",
      "Downloading SDSS Image...\n",
      "Success!\n"
     ]
    },
    {
     "name": "stderr",
     "output_type": "stream",
     "text": [
      "WARNING: W03: None:13:0: W03: Implicitly generating an ID from a name 'RA:192.491112052,DEC:5.311410068,RASIZE:0.0666666666667,DECSIZE:0.0666666666667,VERB:3,FORMAT:IMAGE/FITS,TIME:2018/02/20_02:37:54' -> 'RA_192.491112052_DEC_5.311410068_RASIZE_0.0666666666667_DECSIZE_0.0666666666667_VERB_3_FORMAT_IMAGE_FITS_TIME_2018_02_20_02_37_54' [astropy.io.votable.xmlutil]\n"
     ]
    },
    {
     "name": "stdout",
     "output_type": "stream",
     "text": [
      "Downloading Chandra Image...\n",
      "Success!\n"
     ]
    }
   ],
   "source": [
    "wav.waveplotter(RA=192.491112052, DEC=5.311410068, framesize=4.0*u.arcmin, frame='icrs', scs_radius=0.025)"
   ]
  },
  {
   "cell_type": "markdown",
   "metadata": {},
   "source": [
    "# Collecting data\n",
    "\n",
    "To collect data we can use the waveseeker function. This returns pandas dataframes from the Very Large Array (VLA), Sloan Digital Sky Survey (SDSS), and the Chandra Source Catalog (CSC)."
   ]
  },
  {
   "cell_type": "code",
   "execution_count": null,
   "metadata": {},
   "outputs": [],
   "source": [
    "data = wav.waveseeker(RA=192.491112052, DEC=5.311410068, framesize=4.0*u.arcmin, frame='icrs', scs_radius=0.025)"
   ]
  },
  {
   "cell_type": "code",
   "execution_count": null,
   "metadata": {},
   "outputs": [],
   "source": [
    "data['NVSS'].head()"
   ]
  },
  {
   "cell_type": "code",
   "execution_count": null,
   "metadata": {},
   "outputs": [],
   "source": [
    "data['SDSS'].head()"
   ]
  },
  {
   "cell_type": "code",
   "execution_count": null,
   "metadata": {},
   "outputs": [],
   "source": [
    "data['CSC'].head()"
   ]
  }
 ],
 "metadata": {
  "kernelspec": {
   "display_name": "Python 2",
   "language": "python",
   "name": "python2"
  },
  "language_info": {
   "codemirror_mode": {
    "name": "ipython",
    "version": 2
   },
   "file_extension": ".py",
   "mimetype": "text/x-python",
   "name": "python",
   "nbconvert_exporter": "python",
   "pygments_lexer": "ipython2",
   "version": "2.7.13"
  }
 },
 "nbformat": 4,
 "nbformat_minor": 2
}
